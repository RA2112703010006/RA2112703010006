{
  "nbformat": 4,
  "nbformat_minor": 0,
  "metadata": {
    "colab": {
      "name": "RA2112703010006pps.ipynb",
      "provenance": [],
      "authorship_tag": "ABX9TyO8sEliAGjkSfaUq3lhYk6Q",
      "include_colab_link": true
    },
    "kernelspec": {
      "name": "python3",
      "display_name": "Python 3"
    },
    "language_info": {
      "name": "python"
    }
  },
  "cells": [
    {
      "cell_type": "markdown",
      "metadata": {
        "id": "view-in-github",
        "colab_type": "text"
      },
      "source": [
        "<a href=\"https://colab.research.google.com/github/RA2112703010006/RA2112703010006/blob/main/RA2112703010006pps.ipynb\" target=\"_parent\"><img src=\"https://colab.research.google.com/assets/colab-badge.svg\" alt=\"Open In Colab\"/></a>"
      ]
    },
    {
      "cell_type": "code",
      "execution_count": null,
      "metadata": {
        "id": "0lBi1j4HGWL5"
      },
      "outputs": [],
      "source": [
        "import pandas as pd\n",
        " \n",
        "# intialise data of lists.\n",
        "data = {'Name':['Tom', 'nick', 'krish', 'jack'],\n",
        "        'Age':[20, 21, 19, 18], 'Height':['150cm', '152cm', '154cm', '150m']}\n",
        " \n",
        "# Create DataFrame\n",
        "df = pd.DataFrame(data)\n",
        " \n",
        "# Print the output.\n",
        "print(df)"
      ]
    },
    {
      "cell_type": "code",
      "source": [
        "import numpy as np\n",
        "import pandas as pd\n",
        "\"\"\"Analysis of 7 Countries\"\"\"\n",
        "df=pd.DataFrame({\n",
        "    'Population' : [35.467, 63.951, 80.94, 60.665, 127.061, 65.511, 318.523],\n",
        "    'GDP' : [8574536, 3425674, 1754753, 2464567, 3542567, 5432567, 43256753],\n",
        "    'Surface Area' : [9483209, 235123, 453256, 673829, 475829 , 832476, 8574638],\n",
        "    'HDI' : [0.645, 0.754, 0.967, 0.342, 0.564, 0.976, 0.866],\n",
        "    'Continent' : ['America', 'Europe', 'Europe', 'Europe', 'Asia', 'Europe', 'America']\n",
        "\n",
        "},columns=['Population', 'GDP', 'Surface Area', 'HDI', 'Continent'])\n",
        "df.index=[\n",
        "          'Canada',\n",
        "          'France',\n",
        "          'Germany',\n",
        "          'Italy',\n",
        "          'Japan',\n",
        "          'United Kingdom',\n",
        "          'United States']\n",
        "print(df)\n",
        "print()\n",
        "print(df.loc['Canada'])\n",
        "print()\n",
        "print(\"Mean: \")\n",
        "print(df.mean())\n",
        "crisis=pd.Series([-1000000,-0.3], index=['GDP', 'HDI'])\n",
        "print()\n",
        "print(df[['GDP','HDI']]+crisis)\n",
        "lang=pd.Series(\n",
        "                ['French','German','Italian'],\n",
        "               index=['France','Germany','Italy']\n",
        ")\n",
        "df['Language']=lang\n",
        "print()\n",
        "print(df)"
      ],
      "metadata": {
        "id": "qxCMPVNdGXj_"
      },
      "execution_count": null,
      "outputs": []
    },
    {
      "cell_type": "code",
      "source": [
        "import pandas as pd\n",
        "import numpy as np\n",
        "print(\"Mark of Aayushmaan\")\n",
        "marks=[90,82,73,94,100]\n",
        "sub_name=['Maths','Science','Computer','Social','English']\n",
        "ind=pd.Series(marks,index=sub_name)\n",
        "dt=pd.DataFrame(\n",
        "    {\n",
        "        \"Subjects\":pd.Series(sub_name),\n",
        "        \"Marks\":pd.Series(marks),\n",
        "        \"Grade\":pd.Series(['A','B','C','A','A']),\n",
        "        \"Qualification\":'Pass',\n",
        "        \"Rank\":np.array([1]*5),\n",
        "    }\n",
        ")\n",
        "print(dt)"
      ],
      "metadata": {
        "id": "spzcpMpfGg8s"
      },
      "execution_count": null,
      "outputs": []
    },
    {
      "cell_type": "code",
      "source": [
        "marks=[90,82,73,94,100]\n",
        "sub_name=['Maths','Science','Computer','Social','English']\n",
        "ind=pd.Series(marks,index=sub_name)\n",
        "dt=pd.DataFrame(\n",
        "    {\n",
        "        \"Subjects\":pd.Series(sub_name),\n",
        "        \"Marks\":pd.Series(marks),\n",
        "        \"Grade\":pd.Series(['A','B','C','A','A']),\n",
        "        \"Qualification\":'Pass',\n",
        "        \"Rank\":np.array([1]*5),\n",
        "    }\n",
        ")\n",
        "print(marks)\n",
        "mrk=np.mean(marks)\n",
        "mrk1=np.median(marks)\n",
        "\n",
        "print(\"Mean marks is:\",mrk)\n",
        "print(\"Median mark is:\",mrk1)\n",
        "x=np.percentile(marks, 80, axis=None,interpolation='midpoint')\n",
        "print(\"Percentile function:\",x)\n",
        "y=np.var(marks, axis=None, dtype=None, ddof=0)\n",
        "print(\"Variance function:\",y)\n",
        "z=np.std(marks, axis=None, dtype=None, ddof=0)\n",
        "print(\"Standard deviation:\",z)"
      ],
      "metadata": {
        "id": "8xuaRGIJGlUf"
      },
      "execution_count": null,
      "outputs": []
    }
  ]
}